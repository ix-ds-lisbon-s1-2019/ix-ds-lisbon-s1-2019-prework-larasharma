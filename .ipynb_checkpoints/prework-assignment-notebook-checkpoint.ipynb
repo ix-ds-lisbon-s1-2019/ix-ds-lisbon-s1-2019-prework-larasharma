{
 "cells": [
  {
   "cell_type": "markdown",
   "metadata": {},
   "source": [
    "# Prework Assignment"
   ]
  },
  {
   "cell_type": "markdown",
   "metadata": {},
   "source": [
    "### General Background Questions"
   ]
  },
  {
   "cell_type": "markdown",
   "metadata": {},
   "source": [
    "1. Why is version control important in science?"
   ]
  },
  {
   "cell_type": "code",
   "execution_count": 1,
   "metadata": {},
   "outputs": [],
   "source": [
    "# Version control is important because it allows everyone to work seperately and add it together. People are working from a universal file and makes collaboration better."
   ]
  },
  {
   "cell_type": "markdown",
   "metadata": {},
   "source": [
    "2. What kind of research artifacts can we track with Git?"
   ]
  },
  {
   "cell_type": "code",
   "execution_count": 1,
   "metadata": {},
   "outputs": [],
   "source": [
    "# Examples of artifacts we can track are manuscripts, lectures, datasets, and lab research."
   ]
  },
  {
   "cell_type": "markdown",
   "metadata": {},
   "source": [
    "3. What are the three main things that can go wrong in a data science project?"
   ]
  },
  {
   "cell_type": "code",
   "execution_count": 1,
   "metadata": {},
   "outputs": [],
   "source": [
    "# One problem is that the data you have doesn't work with what problem you are trying to solve.\n",
    "# A second problem is that the model created isn't efficent in solving the problem accurately and/or consistently.\n",
    "# The third problem is that the analysis done for the problem isn't actually answering the question at hand. "
   ]
  },
  {
   "cell_type": "markdown",
   "metadata": {},
   "source": [
    "### Python Background Questions"
   ]
  },
  {
   "cell_type": "markdown",
   "metadata": {},
   "source": [
    "These short exercises are a way to familiarize yourself with python. If you find these exercises too difficult, don’t worry! We will review the basics the first day to make sure we are all comfortable coding in Python.\n",
    "\n",
    "Please save your work in this document and `git push` them to the `prework-assignment` repo.\n",
    "\n",
    "----------------------------------------------------------------"
   ]
  },
  {
   "cell_type": "markdown",
   "metadata": {},
   "source": [
    "### Problem 1: Basic Operations"
   ]
  },
  {
   "cell_type": "markdown",
   "metadata": {},
   "source": [
    "You are at Vanessa's Vegan Cafe and you loved it so much you wanna leave a tip. Write a function that takes the amount owed and calculates how much money you pay with an 18% tip. If functions still scare you, just the solution code will do."
   ]
  },
  {
   "cell_type": "code",
   "execution_count": 14,
   "metadata": {},
   "outputs": [],
   "source": [
    "def tip(x):\n",
    "    money = x * 0.18\n",
    "    return money"
   ]
  },
  {
   "cell_type": "markdown",
   "metadata": {},
   "source": [
    "----------------------------------------------------------------"
   ]
  },
  {
   "cell_type": "markdown",
   "metadata": {},
   "source": [
    "### Problem 2: Lists"
   ]
  },
  {
   "cell_type": "markdown",
   "metadata": {},
   "source": [
    "I have a fortune cookie that says my lucky numbers are:\n",
    "\n",
    "       [23, 54, 6, 8, 10078, 3]\n",
    "\n",
    "Write a function that returns 3 lists (if functions still scare you, just the solution code will do)\n",
    "   - replace the number 6 with 1\n",
    "   - the above list in decreasing order\n",
    "   - all values greater than 15"
   ]
  },
  {
   "cell_type": "code",
   "execution_count": 13,
   "metadata": {},
   "outputs": [],
   "source": [
    "def listing(x):\n",
    "    x[2] = 1\n",
    "    replace = x\n",
    "    \n",
    "    flip = x[::-1]\n",
    "    \n",
    "    hello = []\n",
    "    for nmbr in range(0, len(x)):\n",
    "        if x[nmbr] > 15:\n",
    "            hello.append(x[nmbr])\n",
    "        \n",
    "    return replace, flip, hello\n"
   ]
  },
  {
   "cell_type": "markdown",
   "metadata": {},
   "source": [
    "----------------------------------------------------------------"
   ]
  },
  {
   "cell_type": "markdown",
   "metadata": {},
   "source": [
    "### Problem 3: Basic Operations"
   ]
  },
  {
   "cell_type": "markdown",
   "metadata": {},
   "source": [
    "Let's now take the first step in coding some real data science. Write a statement that loads the `numpy` library into the interpreter and gives it an alias of `np`."
   ]
  },
  {
   "cell_type": "code",
   "execution_count": 1,
   "metadata": {},
   "outputs": [],
   "source": [
    "import numpy as np"
   ]
  },
  {
   "cell_type": "markdown",
   "metadata": {},
   "source": [
    "----------------------------------------------------------------"
   ]
  },
  {
   "cell_type": "markdown",
   "metadata": {},
   "source": [
    "### Problem 4: Numpy"
   ]
  },
  {
   "cell_type": "markdown",
   "metadata": {},
   "source": [
    "Generated a 10x10 `numpy` array with random numbers and slice the array to get the 2nd and 3rd column. Also calculate the average of 6th column using `numpy`."
   ]
  },
  {
   "cell_type": "code",
   "execution_count": 47,
   "metadata": {},
   "outputs": [
    {
     "name": "stdout",
     "output_type": "stream",
     "text": [
      "[[3 2 0 9 5 8 1 0 9 5]\n",
      " [9 2 1 3 0 6 0 7 9 3]\n",
      " [8 4 4 5 1 6 8 6 1 4]\n",
      " [4 9 8 6 2 3 8 0 5 8]\n",
      " [7 5 6 5 7 4 2 6 6 8]\n",
      " [1 0 5 0 1 4 1 9 0 3]\n",
      " [9 3 0 8 2 5 4 2 4 2]\n",
      " [0 1 5 5 8 0 0 5 7 3]\n",
      " [6 0 2 0 5 1 7 3 2 3]\n",
      " [2 3 7 7 1 4 6 7 0 0]]\n",
      "\n",
      "[[2 0]\n",
      " [2 1]\n",
      " [4 4]\n",
      " [9 8]\n",
      " [5 6]\n",
      " [0 5]\n",
      " [3 0]\n",
      " [1 5]\n",
      " [0 2]\n",
      " [3 7]]\n",
      "\n",
      "3.7\n"
     ]
    }
   ],
   "source": [
    "import numpy as np\n",
    "\n",
    "lumpy = np.random.randint(10, size=(10, 10))\n",
    "\n",
    "print(lumpy)\n",
    "\n",
    "print()\n",
    "\n",
    "print(lumpy[:, 1:3])\n",
    "\n",
    "print()\n",
    "\n",
    "bumpy = np.mean(lumpy[:, 6])\n",
    "\n",
    "print(bumpy)"
   ]
  },
  {
   "cell_type": "markdown",
   "metadata": {},
   "source": [
    "----------------------------------------------------------------"
   ]
  },
  {
   "cell_type": "markdown",
   "metadata": {},
   "source": [
    "##### That's it! We look forward to seeing you in class!"
   ]
  }
 ],
 "metadata": {
  "kernelspec": {
   "display_name": "Python 3",
   "language": "python",
   "name": "python3"
  },
  "language_info": {
   "codemirror_mode": {
    "name": "ipython",
    "version": 3
   },
   "file_extension": ".py",
   "mimetype": "text/x-python",
   "name": "python",
   "nbconvert_exporter": "python",
   "pygments_lexer": "ipython3",
   "version": "3.7.3"
  }
 },
 "nbformat": 4,
 "nbformat_minor": 2
}
